{
 "cells": [
  {
   "attachments": {},
   "cell_type": "markdown",
   "metadata": {},
   "source": [
    "# HIPAA Privacy Rule-based De-identification on DICOM Dataset\n",
    "\n",
    "HIPAA provides two methods for de-identification: the \"Safe Harbor\" method and the \"Expert Determination\" method. The Safe Harbor method is more straightforward and involves anonymizing/redacting 18 specific types of identifiers from the data.\n",
    "\n",
    "Here, we will focus on the Safe Harbor method, which includes removing or redacting identifiers such as names, geographic subdivisions smaller than a state, dates directly related to an individual, phone numbers, email addresses, and more.\n",
    "\n",
    "After de-ID,  the DICOM file will be updated and uploaded to destiny storage and evaluated by AWS services, Rekongnition, Comprehend and Comprehend Medical."
   ]
  },
  {
   "cell_type": "markdown",
   "metadata": {},
   "source": [
    "## Setup De-identification Environment\n",
    "\n",
    "Let's start by setting environment variables for de identification of DICOM file:\n",
    "1) set local path of DICOM img folder.\n",
    "2) set source and destiny s3 bucket.\n",
    "3) set source and destiny prefix for DICOM file.\n",
    "4) cleanup de-id DICOM dir and evaluation DICOM dir\n",
    "5) set aws session with user profile name."
   ]
  },
  {
   "cell_type": "code",
   "execution_count": null,
   "metadata": {},
   "outputs": [],
   "source": [
    "from med_img_de_id_class import ProcessMedImage\n",
    "from common.utils import get_boto3_session, draw_img, dump_dict_to_tsv, dump_object_to_text\n",
    "# setup environment\n",
    "LOC_DICOM_FOLDER = '../images/med_phi_img/'\n",
    "LOC_DE_ID_DICOM_FOLDER = '../images/med_de_id_img/'\n",
    "LOC_EVAL_DICOM_FOLDER = '../images/med_eval_img/'\n",
    "SOURCE_BUCKET = \"de-id-src\"\n",
    "DESTINATION_BUCKET = \"de-id-dst\"\n",
    "SOURCE_PREFIX = \"dicom-images/\"\n",
    "DESTINATION_PREFIX = \"de-id-dicom-images/\"\n",
    "EVAL_BUCKET = \"de-id-evl\"\n",
    "EVAL_PREFIX = \"eval-de-id-dicom-images/\"\n",
    "\n",
    "aws_session = get_boto3_session(\"esi\")\n",
    "rule_config_file_path= '../configs/de-id/de_id_rules_auto.yaml'\n",
    "\n",
    "processor = ProcessMedImage(aws_session, rule_config_file_path)"
   ]
  },
  {
   "cell_type": "markdown",
   "metadata": {},
   "source": [
    "## Parse DICOM Image"
   ]
  },
  {
   "cell_type": "code",
   "execution_count": null,
   "metadata": {},
   "outputs": [],
   "source": [
    "local_img_file = \"1-053.dcm\" \n",
    "# local_img_file =\"RiveraMichael.dcm\"\n",
    "# local_img_file = \"MeyerStephanie.dcm\"\n",
    "# local_img_file = \"hefe.dcm\"\n",
    "# local_img_file = \"TeFain.dcm\"\n",
    "# local_img_file = 'MartinChad-1-1.dcm'\n",
    "# local_img_file = 'ScottKauf-Man.dcm'\n",
    "# local_img_file = '1-043.dcm'\n",
    "# local_img_file = 'lung-1-1.dcm'\n",
    "# local_img_file = \"DavidsonDouglas.dcm\"\n",
    "# local_img_file = \"00002024.dcm\"\n",
    "# local_img_file = \"00000044.dcm\"\n",
    "# local_img_file = \"00000001.dcm\"\n",
    "# local_img_file = \"00000027.dcm\"\n",
    "local_img_path = LOC_DICOM_FOLDER + local_img_file\n",
    "src_key= SOURCE_PREFIX + local_img_file\n",
    "dist_key= DESTINATION_PREFIX + local_img_file\n",
    "result = processor.parse_dicom_file(None, None, local_img_path)"
   ]
  },
  {
   "cell_type": "markdown",
   "metadata": {},
   "source": [
    "## De-Identification in Metadata of DICOM"
   ]
  },
  {
   "cell_type": "code",
   "execution_count": null,
   "metadata": {},
   "outputs": [],
   "source": [
    "# dump tags before De-id\n",
    "dump_object_to_text(processor.ds, '../temp/ds_before_de_id.txt')\n",
    "processor.de_identify_dicom()"
   ]
  },
  {
   "cell_type": "markdown",
   "metadata": {},
   "source": [
    "## Draw DICOM Image Before De-identification"
   ]
  },
  {
   "cell_type": "code",
   "execution_count": null,
   "metadata": {},
   "outputs": [],
   "source": [
    "# show med image before de-identification\n",
    "draw_img(processor.image_data)"
   ]
  },
  {
   "cell_type": "markdown",
   "metadata": {},
   "source": [
    "## De-identification in pixel of DICOM"
   ]
  },
  {
   "cell_type": "code",
   "execution_count": null,
   "metadata": {},
   "outputs": [],
   "source": [
    "id_text_detected, text_detected = processor.detect_id_in_img(None, None)\n",
    "if id_text_detected and len(id_text_detected):\n",
    "    print(f'Sensitive text detected in {local_img_file}')\n",
    "    print (id_text_detected)\n",
    "    processor.redact_id_in_image(id_text_detected)\n",
    "    print('Sensitive text in image have been redacted')\n",
    "\n",
    "else:\n",
    "    print(f'No sensitive text detected in {local_img_file}')\n"
   ]
  },
  {
   "cell_type": "markdown",
   "metadata": {},
   "source": [
    "## Updated the DICOM with redacted metadata and blurred sensitive identification text in image."
   ]
  },
  {
   "cell_type": "code",
   "execution_count": null,
   "metadata": {},
   "outputs": [],
   "source": [
    "import os\n",
    "local_de_id_dicom_dir = f\"{LOC_DE_ID_DICOM_FOLDER}test/{processor.patient_id}/{processor.studyInstanceUID}/{processor.seriesInstanceUID}/\"\n",
    "if not os.path.exists(local_de_id_dicom_dir):\n",
    "    os.makedirs(local_de_id_dicom_dir)\n",
    "local_de_id_dicom = os.path.join(local_de_id_dicom_dir, local_img_file )\n",
    "processor.save_de_id_dicom(local_de_id_dicom)"
   ]
  },
  {
   "cell_type": "markdown",
   "metadata": {},
   "source": [
    "## Parse redacted DICOM for evaluation with AWS Comprehend and Comprehend Medical"
   ]
  },
  {
   "cell_type": "code",
   "execution_count": null,
   "metadata": {},
   "outputs": [],
   "source": [
    "src_key = DESTINATION_PREFIX + local_img_file.replace(\"dcm\", \"png\")\n",
    "dist_key= EVAL_PREFIX + local_img_file \n",
    "result = processor.parse_dicom_file(DESTINATION_BUCKET, src_key, local_de_id_dicom, True)"
   ]
  },
  {
   "cell_type": "markdown",
   "metadata": {},
   "source": [
    "# Show Image and Metadata in De-id DICOM File Before Evaluation"
   ]
  },
  {
   "cell_type": "code",
   "execution_count": null,
   "metadata": {},
   "outputs": [],
   "source": [
    "# dump tags before De-id\n",
    "dump_object_to_text(processor.ds, '../temp/ds_after_de_id.txt')\n",
    "# show med image before de-identification\n",
    "draw_img(processor.image_data)"
   ]
  },
  {
   "cell_type": "markdown",
   "metadata": {},
   "source": [
    "## Evaluate Redacted DICOM Metadata"
   ]
  },
  {
   "cell_type": "code",
   "execution_count": null,
   "metadata": {},
   "outputs": [],
   "source": [
    "from common.utils import dump_dict_to_tsv, get_date_time\n",
    "detected_elements, tags, ids = processor.detect_id_in_tags()\n",
    "if ids and len(ids) > 0:\n",
    "    # print(\"Found PII/PHI in redacted DICOM: \", ids)\n",
    "    # create a evaluation report\n",
    "    eval_dict_list = []\n",
    "    for i in range(len(ids)):\n",
    "        eval_dict = {\"tag\": tags[i], \"Detected PHI\": ids[i]}\n",
    "        eval_dict_list.append(eval_dict)\n",
    "    dump_dict_to_tsv(eval_dict_list, f\"../output/report/tags_de_id_evaluation_report_{get_date_time()}.tsv\")\n",
    "    # redact remaining PHI \n",
    "    processor.redact_tags(detected_elements)\n",
    "    print(\"Remaining PHI information in de-identified DICOM metadata are redacted.\")\n",
    "\n",
    "else:\n",
    "    print(\"No PII/PHI found in redacted DICOM\")"
   ]
  },
  {
   "cell_type": "markdown",
   "metadata": {},
   "source": [
    "## Evaluate Redacted DICOM Pixel Data"
   ]
  },
  {
   "cell_type": "code",
   "execution_count": null,
   "metadata": {},
   "outputs": [],
   "source": [
    "# check after redacted\n",
    "id_text_detected, text_detected = processor.detect_id_in_img(DESTINATION_BUCKET, src_key, True)\n",
    "if id_text_detected and len(id_text_detected) > 0:\n",
    "    print(f'Sensitive text detected in pixel in {local_de_id_dicom}')\n",
    "    dump_dict_to_tsv(id_text_detected, f\"../output/report/img_de_id_evaluation_report_{get_date_time()}.tsv\")\n",
    "    print (id_text_detected)\n",
    "    processor.redact_id_in_image(id_text_detected)\n",
    "else:\n",
    "    print(f'No sensitive text detected in {dist_key}')"
   ]
  },
  {
   "cell_type": "markdown",
   "metadata": {},
   "source": [
    "## Update evaluated DICOM file if remaining PHI info detected and redacted"
   ]
  },
  {
   "cell_type": "code",
   "execution_count": null,
   "metadata": {},
   "outputs": [],
   "source": [
    "local_eval_dicom_dir =f\"{LOC_EVAL_DICOM_FOLDER}test/{processor.patient_id}/{processor.studyInstanceUID}/{processor.seriesInstanceUID}/\"\n",
    "if not os.path.exists(local_eval_dicom_dir):\n",
    "    os.makedirs(local_eval_dicom_dir)\n",
    "local_eval_dicom = os.path.join(LOC_EVAL_DICOM_FOLDER, local_img_file)\n",
    "processor.save_de_id_dicom(local_eval_dicom)\n",
    "if (ids and len(ids) > 0) or (id_text_detected and len(id_text_detected) > 0):\n",
    "    # show evaluated dicom\n",
    "    result = processor.parse_dicom_file(None, None, local_eval_dicom)\n",
    "    draw_img(processor.image_data)\n",
    "    dump_object_to_text(processor.ds, '../temp/ds_after_eval.txt') "
   ]
  },
  {
   "cell_type": "markdown",
   "metadata": {},
   "source": [
    "## Self-learning: update rules for detecting PHI/PII information in DICOM file."
   ]
  },
  {
   "cell_type": "code",
   "execution_count": null,
   "metadata": {},
   "outputs": [],
   "source": [
    "if ids and len(ids) > 0:\n",
    "    processor.update_rules_in_configs(rule_config_file_path)\n",
    "\n",
    "# close the processor\n",
    "processor.close()"
   ]
  }
 ],
 "metadata": {
  "kernelspec": {
   "display_name": "Python 3",
   "language": "python",
   "name": "python3"
  },
  "language_info": {
   "codemirror_mode": {
    "name": "ipython",
    "version": 3
   },
   "file_extension": ".py",
   "mimetype": "text/x-python",
   "name": "python",
   "nbconvert_exporter": "python",
   "pygments_lexer": "ipython3",
   "version": "3.12.4"
  }
 },
 "nbformat": 4,
 "nbformat_minor": 2
}
